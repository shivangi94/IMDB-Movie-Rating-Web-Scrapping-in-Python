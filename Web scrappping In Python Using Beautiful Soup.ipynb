{
 "cells": [
  {
   "cell_type": "code",
   "execution_count": 21,
   "id": "9bc58a56",
   "metadata": {},
   "outputs": [],
   "source": [
    "from bs4 import BeautifulSoup\n",
    "import requests, openpyxl"
   ]
  },
  {
   "cell_type": "code",
   "execution_count": 24,
   "id": "727cb4b7",
   "metadata": {},
   "outputs": [
    {
     "name": "stdout",
     "output_type": "stream",
     "text": [
      "['Sheet']\n",
      "['Top rated Movies']\n"
     ]
    },
    {
     "data": {
      "text/plain": [
       "'\\ntry:\\n    source = requests.get(\\'https://www.imdb.com/chart/top/\\')\\n    source.raise_for_status()\\n    \\n    soup = BeautifulSoup(source.text, \\'html.parser\\')\\n    \\n    movies = soup.find(\\'tbody\\', class_=\"lister-list\").find_all(\\'tr\\')\\n\\n    for movie in movies:\\n        name = movie.find(\\'td\\', class_=\"titleColumn\").a.text\\n        \\n        rank = movie.find(\\'td\\', class_=\"titleColumn\").get_text(strip=True).split(\\'.\\')[0]\\n        \\n        year = movie.find(\\'td\\', class_=\"titleColumn\").span.text.strip(\\'()\\')\\n        \\n        rating = movie.find(\\'td\\', class_=\"ratingColumn imdbRating\").strong.text\\n        \\n        print(rank, name, year, rating)\\n            \\nexcept Exception as e:\\n    print(e)\\n    '"
      ]
     },
     "execution_count": 24,
     "metadata": {},
     "output_type": "execute_result"
    }
   ],
   "source": [
    "excel = openpyxl.Workbook()\n",
    "\n",
    "sheet = excel.active\n",
    "sheet.title = 'Top rated Movies'\n",
    "\n",
    "sheet .append(['Movie Rank', 'Movie Name', 'Year of Release','IMDB Rating'])\n",
    "\n",
    "try:\n",
    "    source = requests.get('https://www.imdb.com/chart/top/')\n",
    "    source.raise_for_status()\n",
    "    \n",
    "    soup = BeautifulSoup(source.text, 'html.parser')\n",
    "    \n",
    "    movies = soup.find('tbody', class_=\"lister-list\").find_all('tr')\n",
    "\n",
    "    for movie in movies:\n",
    "        name = movie.find('td', class_=\"titleColumn\").a.text\n",
    "        \n",
    "        rank = movie.find('td', class_=\"titleColumn\").get_text(strip=True).split('.')[0]\n",
    "        \n",
    "        year = movie.find('td', class_=\"titleColumn\").span.text.strip('()')\n",
    "        \n",
    "        rating = movie.find('td', class_=\"ratingColumn imdbRating\").strong.text\n",
    "        \n",
    "        print(rank, name, year, rating)\n",
    "        sheet.append([rank, name, year, rating])    \n",
    "except Exception as e:\n",
    "    print(e)\n",
    "\n",
    "excel.save(\"IMDB Movie Ratings.xlsx\")"
   ]
  },
  {
   "cell_type": "code",
   "execution_count": null,
   "id": "bd9dd7fa",
   "metadata": {},
   "outputs": [],
   "source": []
  }
 ],
 "metadata": {
  "kernelspec": {
   "display_name": "Python 3 (ipykernel)",
   "language": "python",
   "name": "python3"
  },
  "language_info": {
   "codemirror_mode": {
    "name": "ipython",
    "version": 3
   },
   "file_extension": ".py",
   "mimetype": "text/x-python",
   "name": "python",
   "nbconvert_exporter": "python",
   "pygments_lexer": "ipython3",
   "version": "3.9.7"
  }
 },
 "nbformat": 4,
 "nbformat_minor": 5
}
